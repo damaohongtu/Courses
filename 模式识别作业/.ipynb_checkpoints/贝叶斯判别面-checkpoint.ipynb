{
 "cells": [
  {
   "cell_type": "markdown",
   "metadata": {},
   "source": [
    "2017-10-1 田茂 201728018629013\n",
    "- 设以下模式类别具有正态概率密度函数：\n",
    "\t\t ω1：{(0 0)T, (2 0)T, (2 2)T, (0 2)T}\n",
    "\t\t ω2：{(4 4)T, (6 4)T, (6 6)T, (4 6)T}\n",
    "\t（1）设P(ω1)= P(ω2)=1/2，求这两类模式之间的贝叶斯判别界面的方程式。\n",
    "\t（2）绘出判别界面。\n",
    "- 编写两类正态分布模式的贝叶斯分类程序。"
   ]
  },
  {
   "cell_type": "code",
   "execution_count": 122,
   "metadata": {
    "collapsed": false
   },
   "outputs": [
    {
     "data": {
      "image/png": "[encoded data removed]",
      "text/plain": [
       "<matplotlib.figure.Figure at 0xa1acfd0>"
      ]
     },
     "metadata": {},
     "output_type": "display_data"
    }
   ],
   "source": [
    "from numpy import *\n",
    "import numpy as np\n",
    "import matplotlib\n",
    "import matplotlib.pyplot as plt\n",
    "\n",
    "matplotlib.rcParams['font.sans-serif'] = ['SimHei']   \n",
    "matplotlib.rcParams['font.family']='sans-serif'  \n",
    "fig1=plt.figure(1)\n",
    "W1=np.asarray([[0,0],[2,0],[2,2],[0,2]])\n",
    "W2=np.asarray([[4,4],[6,4],[6,6],[4,6]])\n",
    "#注意只有转换为numpy类型的array之后才能使用下面的切片方法\n",
    "#print W1[:,0]\n",
    "#print W1[:,1]\n",
    "p1=plt.scatter(W1[:,1],W1[:,0],marker='x',color='m',label='W1')\n",
    "p2=plt.scatter(W2[:,1],W2[:,0],marker='o',color='r',label='W2')\n",
    "plt.legend(loc='lower right')\n",
    "plt.title(u'贝叶斯判别面，画出散点图')\n",
    "plt.show()"
   ]
  },
  {
   "cell_type": "code",
   "execution_count": 123,
   "metadata": {
    "collapsed": false
   },
   "outputs": [
    {
     "name": "stdout",
     "output_type": "stream",
     "text": [
      "W1的均值: [ 1.  1.]\n",
      "W2的均值: [ 5.  5.]\n"
     ]
    }
   ],
   "source": [
    "#求均值\n",
    "m1=np.mean(W1,axis=0)\n",
    "m2=np.mean(W2,axis=0)\n",
    "print u\"W1的均值:\",m1\n",
    "print u\"W2的均值:\",m2"
   ]
  },
  {
   "cell_type": "code",
   "execution_count": 124,
   "metadata": {
    "collapsed": false
   },
   "outputs": [
    {
     "name": "stdout",
     "output_type": "stream",
     "text": [
      "W1的协方差矩阵:\n",
      "[[ 1.33333333  0.        ]\n",
      " [ 0.          1.33333333]]\n",
      "W2的协方差矩阵:\n",
      "[[ 1.33333333  0.        ]\n",
      " [ 0.          1.33333333]]\n"
     ]
    }
   ],
   "source": [
    "#求协方差\n",
    "c1=np.cov(W1.T)\n",
    "c2=np.cov(W2.T)\n",
    "print u\"W1的协方差矩阵:\\n\",c1\n",
    "print u\"W2的协方差矩阵:\\n\",c2"
   ]
  },
  {
   "cell_type": "markdown",
   "metadata": {},
   "source": [
    "### <font color='red'>W1和W2的协方差矩阵相等</font>\n",
    "又：P(W1)=P(W2)=1/2,则判别截面为：\n"
   ]
  },
  {
   "cell_type": "code",
   "execution_count": 130,
   "metadata": {
    "collapsed": false
   },
   "outputs": [
    {
     "name": "stdout",
     "output_type": "stream",
     "text": [
      "[[ -3. -inf]\n",
      " [-inf  -3.]]\n",
      "[[  9.  nan]\n",
      " [ nan   9.]]\n"
     ]
    },
    {
     "name": "stderr",
     "output_type": "stream",
     "text": [
      "D:\\anaconda\\lib\\site-packages\\ipykernel\\__main__.py:1: RuntimeWarning: divide by zero encountered in reciprocal\n",
      "  if __name__ == '__main__':\n",
      "D:\\anaconda\\lib\\site-packages\\ipykernel\\__main__.py:3: RuntimeWarning: invalid value encountered in add\n",
      "  app.launch_new_instance()\n"
     ]
    }
   ],
   "source": [
    "c_1=c1**(-1)\n",
    "print (m1-m2).T*c_1\n",
    "print (-0.5*m1.T*c_1*m1+0.5*m2.T*c_1*m2)"
   ]
  },
  {
   "cell_type": "markdown",
   "metadata": {},
   "source": [
    "## 结果:<font color='red'>d1(x)-d2(x)=-3x1-3x2+18=0</font>\n"
   ]
  },
  {
   "cell_type": "code",
   "execution_count": 80,
   "metadata": {
    "collapsed": false
   },
   "outputs": [
    {
     "data": {
      "image/png": "[encoded data removed]",
      "text/plain": [
       "<matplotlib.figure.Figure at 0xa53c358>"
      ]
     },
     "metadata": {},
     "output_type": "display_data"
    }
   ],
   "source": [
    "fg2=plt.figure(2)\n",
    "p1=plt.scatter(W1[:,1],W1[:,0],marker='x',color='m',label='W1')\n",
    "p2=plt.scatter(W2[:,1],W2[:,0],marker='o',color='r',label='W2')\n",
    "plt.legend(loc='lower right')\n",
    "plt.title(u'贝叶斯判别面，画出散点图和判别面')\n",
    "x=np.linspace(0,5,1000)\n",
    "y=-x+6\n",
    "plt.plot(x,y,color='green')\n",
    "plt.show()"
   ]
  },
  {
   "cell_type": "markdown",
   "metadata": {},
   "source": [
    "### <font color='blue'>使用sklearn训练并预测</font>"
   ]
  },
  {
   "cell_type": "code",
   "execution_count": 88,
   "metadata": {
    "collapsed": false
   },
   "outputs": [
    {
     "name": "stdout",
     "output_type": "stream",
     "text": [
      "训练数据:\n",
      "[[0 0]\n",
      " [2 0]\n",
      " [2 2]\n",
      " [0 2]\n",
      " [4 4]\n",
      " [6 4]\n",
      " [6 6]\n",
      " [4 6]]\n",
      "预测结果: [0 1]\n"
     ]
    }
   ],
   "source": [
    "#使用numpy的concatenate函数将array拼接在一起\n",
    "W=np.concatenate([W1,W2],axis=0)\n",
    "print u\"训练数据:\\n\",W\n",
    "label=np.array([0,0,0,0,1,1,1,1])\n",
    "from sklearn.naive_bayes import GaussianNB\n",
    "clf=GaussianNB().fit(W,label)\n",
    "print u\"预测结果:\",clf.predict([[1,1],[5,5]])"
   ]
  },
  {
   "cell_type": "markdown",
   "metadata": {},
   "source": [
    "##  <font color=\"green\">编写两类正态分布模式的贝叶斯分类程序。</font>"
   ]
  },
  {
   "cell_type": "code",
   "execution_count": 182,
   "metadata": {
    "collapsed": false
   },
   "outputs": [],
   "source": [
    "#-*-coding:utf-8 -*-\n",
    "#作者：田茂\n",
    "#邮箱：tianmao1994@163.com\n",
    "#编写时间：2017年10月1日\n",
    "import numpy as np\n",
    "class GaussianNB:\n",
    "    \"\"\"\n",
    "    两类正态分布模式的贝叶斯分类程序\n",
    "    class_count=2\n",
    "    输入:numpy型的array\n",
    "    原理:由输入的数据得到判别面方程，保存判别面参数，对新的数据进行预测\n",
    "    \"\"\"\n",
    "#     def __init__():\n",
    "#         pass\n",
    "    def fit(self,X,y):\n",
    "        \"\"\"\n",
    "        输入numpy型的array，就是输入先验，由X和y两组数据构成，其中y是标签\n",
    "        \"\"\"\n",
    "        #样本总数\n",
    "        count=X.shape[0]\n",
    "        #target的取值，两分类\n",
    "        self.classes=np.unique(y)\n",
    "        #将数据拆分成为两份，W1，W2\n",
    "        W1=[]\n",
    "        W2=[]\n",
    "        for i in range(count):\n",
    "            if y[i]==self.classes[0]:\n",
    "                W1.append(X[i])\n",
    "            else:\n",
    "                W2.append(X[i])\n",
    "        W1=np.asarray(W1)\n",
    "        W2=np.asarray(W2)\n",
    "        \n",
    "        W1_count=W1.shape[0]\n",
    "        W2_count=W2.shape[0]\n",
    "        \n",
    "        self.P_W1=float(W1_count)/count\n",
    "        self.P_W2=float(W2_count)/count\n",
    "        \n",
    "        #计算均值\n",
    "        self.m1=np.mean(W1,axis=0)\n",
    "        self.m2=np.mean(W2,axis=0)\n",
    "        #计算协方差\n",
    "        self.c1=np.cov(W1.T)\n",
    "        self.c2=np.cov(W2.T)\n",
    "        #得到判别面\n",
    "        \n",
    "    def predict(self,X):\n",
    "        \"\"\"\n",
    "        输入时numpy型的array，对多对新样本进行predict，返回一个numpy型的array\n",
    "        \"\"\"\n",
    "        classes=self.classes\n",
    "        P_W1=self.P_W1\n",
    "        P_W2=self.P_W2\n",
    "        m1=self.m1\n",
    "        m2=self.m2\n",
    "        c1=self.c1\n",
    "        c2=self.c2\n",
    "        count=X.shape[0]\n",
    "        Y=[]\n",
    "        for i in range(count):\n",
    "            #d1和d2是判别面，比较二者的大小，对新加入的样本进行预测\n",
    "            d1=np.log(P_W1)-0.5*np.log(np.linalg.det(c1))-0.5*((X[i]-m1).T)*(c1**(-1))*(X[i]-m1)\n",
    "            d2=np.log(P_W2)-0.5*np.log(np.linalg.det(c2))-0.5*((X[i]-m2).T)*(c2**(-1))*(X[i]-m2)\n",
    "            if np.linalg.det(d1)>np.linalg.det(d2):\n",
    "                Y.append(classes[0])\n",
    "            else:\n",
    "                Y.append(classes[1])\n",
    "        return Y"
   ]
  },
  {
   "cell_type": "code",
   "execution_count": 187,
   "metadata": {
    "collapsed": false
   },
   "outputs": [
    {
     "data": {
      "text/plain": [
       "[2, 1, 2]"
      ]
     },
     "execution_count": 187,
     "metadata": {},
     "output_type": "execute_result"
    }
   ],
   "source": [
    "X = np.array([[-1, -1], [-2, -1], [-3, -2], [1, 1], [2, 1], [3, 2]])\n",
    "Y = np.array([1, 1, 1, 2, 2, 2])\n",
    "clf=GaussianNB()\n",
    "clf.fit(X,Y)\n",
    "test=np.asarray([[3,3],[-3,-3],[2,2],[5,5]])\n",
    "clf.predict(test)"
   ]
  }
 ],
 "metadata": {
  "kernelspec": {
   "display_name": "Python 2",
   "language": "python",
   "name": "python2"
  },
  "language_info": {
   "codemirror_mode": {
    "name": "ipython",
    "version": 2
   },
   "file_extension": ".py",
   "mimetype": "text/x-python",
   "name": "python",
   "nbconvert_exporter": "python",
   "pygments_lexer": "ipython2",
   "version": "2.7.13"
  }
 },
 "nbformat": 4,
 "nbformat_minor": 2
}
