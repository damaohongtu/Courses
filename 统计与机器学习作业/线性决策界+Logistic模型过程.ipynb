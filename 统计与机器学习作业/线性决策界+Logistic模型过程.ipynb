{
 "cells": [
  {
   "cell_type": "code",
   "execution_count": 72,
   "metadata": {},
   "outputs": [
    {
     "name": "stdout",
     "output_type": "stream",
     "text": [
      "[[-17.13404221]\n",
      " [-19.11299154]\n",
      " [ -0.08131532]]\n"
     ]
    },
    {
     "data": {
      "image/png": "[encoded data removed]",
      "text/plain": [
       "<matplotlib.figure.Figure at 0x1cd5ed3c908>"
      ]
     },
     "metadata": {},
     "output_type": "display_data"
    }
   ],
   "source": [
    "import numpy as np\n",
    "import matplotlib.pyplot as plt\n",
    "\n",
    "def sigmoid(inX):\n",
    "    return 1.0/(1+np.exp(-inX))\n",
    "\n",
    "def gradAscent(dataMatIn,classLabels,alpha=0.001,maxCycles=1000):\n",
    "    #m个样本,每一个样本n纬\n",
    "    m,n=dataMatIn.shape\n",
    "    weights=np.zeros((n,1))\n",
    "    for k in range(maxCycles):\n",
    "        h=sigmoid(dataMatIn*weights)\n",
    "        error=(classLabels-h)\n",
    "        weights=weights+alpha*dataMatIn.transpose()*error\n",
    "    return weights\n",
    "\n",
    "X=np.asmatrix([[1,1,1],[1,2,1],[2,2,1],[1,0,1],[5,5,1],[5,6,1],[6,7,1],[6,6,1]])#正类四个样本，负类四个样本\n",
    "label=np.asmatrix([1,1,1,1,-1,-1,-1,-1])\n",
    "\n",
    "weights=gradAscent(X,label.transpose())\n",
    "print (weights)\n",
    "x1=np.asarray([[1,1],[1,2],[2,2],[1,0]])\n",
    "x2=np.asarray([[5,5],[5,6],[6,7],[6,6]])\n",
    "fg1=plt.figure(1)\n",
    "p1=plt.scatter(x1[:,0],x1[:,1],marker='x',color='m',label='X1')\n",
    "p2=plt.scatter(x2[:,0],x2[:,1],marker='o',color='g',label='X2')\n",
    "X1=np.linspace(1,7,1000)\n",
    "\n",
    "w0=float(weights[0])\n",
    "w1=float(weights[1])\n",
    "w2=float(weights[2])\n",
    "Y=(-w2-w0*X1)/w1\n",
    "\n",
    "plt.plot(X1,Y)\n",
    "plt.legend(loc='lower right')\n",
    "plt.show()"
   ]
  },
  {
   "cell_type": "code",
   "execution_count": null,
   "metadata": {
    "collapsed": true
   },
   "outputs": [],
   "source": []
  }
 ],
 "metadata": {
  "kernelspec": {
   "display_name": "Python 3",
   "language": "python",
   "name": "python3"
  },
  "language_info": {
   "codemirror_mode": {
    "name": "ipython",
    "version": 3
   },
   "file_extension": ".py",
   "mimetype": "text/x-python",
   "name": "python",
   "nbconvert_exporter": "python",
   "pygments_lexer": "ipython3",
   "version": "3.6.2"
  }
 },
 "nbformat": 4,
 "nbformat_minor": 2
}
